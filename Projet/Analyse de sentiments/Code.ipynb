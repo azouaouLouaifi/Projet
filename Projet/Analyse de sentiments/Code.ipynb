{
 "cells": [
  {
   "cell_type": "markdown",
   "id": "13d68a41",
   "metadata": {},
   "source": [
    "# Recupération des donées du fichier csv "
   ]
  },
  {
   "cell_type": "code",
   "execution_count": 41,
   "id": "c2303338",
   "metadata": {},
   "outputs": [
    {
     "name": "stdout",
     "output_type": "stream",
     "text": [
      "1600000\n",
      "(1600000, 6)\n"
     ]
    }
   ],
   "source": [
    "import numpy as np\n",
    "import matplotlib.pyplot as plt\n",
    "from numpy import random\n",
    "import cv2 \n",
    "import csv\n",
    "\n",
    "data = []\n",
    "\n",
    "with open('C:\\\\Users\\\\TRETEC\\\\Documents\\\\S2I\\\\Projet TP AARN\\\\training.1600000.processed.noemoticon.csv',\n",
    "          'r', newline='', encoding='latin-1') as file:\n",
    "    reader = csv.reader(file, delimiter=',')\n",
    "    for row in reader:\n",
    "        data.append(row)\n",
    "\n",
    "\n",
    "\n",
    "print(len(data))\n",
    "data_array = np.array(data)\n",
    "\n",
    "print(data_array.shape)\n"
   ]
  },
  {
   "cell_type": "markdown",
   "id": "6ecede7e",
   "metadata": {},
   "source": [
    "# Recupération de Target et le texte "
   ]
  },
  {
   "cell_type": "code",
   "execution_count": 44,
   "id": "353eae86",
   "metadata": {
    "scrolled": true
   },
   "outputs": [
    {
     "name": "stdout",
     "output_type": "stream",
     "text": [
      "['0' '1467810369' 'Mon Apr 06 22:19:45 PDT 2009' 'NO_QUERY'\n",
      " '_TheSpecialOne_'\n",
      " \"@switchfoot http://twitpic.com/2y1zl - Awww, that's a bummer.  You shoulda got David Carr of Third Day to do it. ;D\"]\n",
      "Dimensions de x : (1600000,)\n",
      "@switchfoot http://twitpic.com/2y1zl - Awww, that's a bummer.  You shoulda got David Carr of Third Day to do it. ;D\n"
     ]
    }
   ],
   "source": [
    "print(data_array[0])\n",
    "y = data_array[:, 0]  \n",
    "X= data_array[:, -1]  \n",
    "print(X[0])"
   ]
  },
  {
   "cell_type": "markdown",
   "id": "138877e4",
   "metadata": {},
   "source": [
    "# Étape 1 : préparation des données\n",
    "\n",
    "\n",
    "## fonction transformer un texte en miniscule\n"
   ]
  },
  {
   "cell_type": "code",
   "execution_count": 46,
   "id": "362cb183",
   "metadata": {},
   "outputs": [],
   "source": [
    "def convert_to_lowercase(element):\n",
    "    return element.lower()"
   ]
  },
  {
   "cell_type": "markdown",
   "id": "9b87416a",
   "metadata": {},
   "source": [
    " ## fonction qui supprime les balises html\n"
   ]
  },
  {
   "cell_type": "code",
   "execution_count": 47,
   "id": "02a6bfb3",
   "metadata": {},
   "outputs": [],
   "source": [
    "import re\n",
    "def remove_html_tags(text):\n",
    "    clean_text = re.sub(r'<.*?>', '', text)\n",
    "    return clean_text\n"
   ]
  },
  {
   "cell_type": "code",
   "execution_count": 48,
   "id": "a71ddf05",
   "metadata": {},
   "outputs": [
    {
     "name": "stderr",
     "output_type": "stream",
     "text": [
      "[nltk_data] Downloading package punkt to\n",
      "[nltk_data]     C:\\Users\\TRETEC\\AppData\\Roaming\\nltk_data...\n",
      "[nltk_data]   Package punkt is already up-to-date!\n"
     ]
    },
    {
     "data": {
      "text/plain": [
       "True"
      ]
     },
     "execution_count": 48,
     "metadata": {},
     "output_type": "execute_result"
    }
   ],
   "source": [
    "# les import et tel pour la radicalisation \n",
    "from nltk.stem import PorterStemmer\n",
    "import nltk\n",
    "nltk.download('punkt')"
   ]
  },
  {
   "cell_type": "markdown",
   "id": "8b510282",
   "metadata": {},
   "source": [
    "## fonction qui radicalise un texte\n"
   ]
  },
  {
   "cell_type": "code",
   "execution_count": 49,
   "id": "b17f9175",
   "metadata": {},
   "outputs": [],
   "source": [
    "def radicaliser_texte(texte):\n",
    "    stemmer = PorterStemmer()\n",
    "    mots = nltk.word_tokenize(texte)\n",
    "    texte_radicalise = ' '.join([stemmer.stem(mot) for mot in mots])\n",
    "    return texte_radicalise\n",
    "\n"
   ]
  },
  {
   "cell_type": "markdown",
   "id": "ee895de9",
   "metadata": {},
   "source": [
    "## fonction nettoyage d'un texte\n"
   ]
  },
  {
   "cell_type": "code",
   "execution_count": 50,
   "id": "8107eb82",
   "metadata": {},
   "outputs": [],
   "source": [
    "def nettoyer_texte(texte):\n",
    "    texte_nettoye = re.sub(r'[^a-zA-Z\\s\\']', ' ', texte)\n",
    "    texte_nettoye = texte_nettoye.replace(\"'\", \" \")   \n",
    "    texte_nettoye = re.sub(r'\\s+', ' ', texte_nettoye)\n",
    "    return texte_nettoye\n"
   ]
  },
  {
   "cell_type": "markdown",
   "id": "5a115339",
   "metadata": {},
   "source": [
    "## fonction qui supprimer les liens \n"
   ]
  },
  {
   "cell_type": "code",
   "execution_count": 51,
   "id": "828a5e2f",
   "metadata": {},
   "outputs": [],
   "source": [
    "import re\n",
    "def supprimer_liens(texte):\n",
    "   \n",
    "    motif_url = r'http[s]?://(?:[a-zA-Z]|[0-9]|[$-_@.&+]|[!*\\\\(\\\\),]|(?:%[0-9a-fA-F][0-9a-fA-F]))+'    \n",
    "    texte_sans_liens = re.sub(motif_url, '', texte)\n",
    "    return texte_sans_liens"
   ]
  },
  {
   "cell_type": "markdown",
   "id": "eb8ae998",
   "metadata": {},
   "source": [
    "## fonction supp les mots_vides\n"
   ]
  },
  {
   "cell_type": "code",
   "execution_count": 52,
   "id": "a8f7a634",
   "metadata": {},
   "outputs": [
    {
     "name": "stderr",
     "output_type": "stream",
     "text": [
      "[nltk_data] Downloading package stopwords to\n",
      "[nltk_data]     C:\\Users\\TRETEC\\AppData\\Roaming\\nltk_data...\n",
      "[nltk_data]   Package stopwords is already up-to-date!\n"
     ]
    },
    {
     "data": {
      "text/plain": [
       "True"
      ]
     },
     "execution_count": 52,
     "metadata": {},
     "output_type": "execute_result"
    }
   ],
   "source": [
    "\n",
    "from nltk.corpus import stopwords\n",
    "nltk.download('stopwords')\n"
   ]
  },
  {
   "cell_type": "code",
   "execution_count": 53,
   "id": "77c68620",
   "metadata": {},
   "outputs": [],
   "source": [
    "def supprimer_mots_vides(texte):\n",
    "    \n",
    "    mots_vides = set(stopwords.words('english'))\n",
    "    mots = texte.split()    \n",
    "    mots_filtres = [mot for mot in mots if mot.lower() not in mots_vides]    \n",
    "    texte_filtre = ' '.join(mots_filtres)\n",
    "    return texte_filtre\n",
    "\n"
   ]
  },
  {
   "cell_type": "markdown",
   "id": "8a7c3d62",
   "metadata": {},
   "source": [
    "# Nettoyage des tweets :"
   ]
  },
  {
   "cell_type": "code",
   "execution_count": 54,
   "id": "05fd623f",
   "metadata": {},
   "outputs": [
    {
     "name": "stdout",
     "output_type": "stream",
     "text": [
      "@switchfoot http://twitpic.com/2y1zl - Awww, that's a bummer.  You shoulda got David Carr of Third Day to do it. ;D\n",
      "spring break in plain city... it's snowing \n",
      "switchfoot awww bummer shoulda got david carr third day\n",
      "spring break plain citi snow\n"
     ]
    }
   ],
   "source": [
    "print(X[0])\n",
    "print(X[10])\n",
    "for i in range(len(X)):\n",
    "    p=X[i]\n",
    "    p=convert_to_lowercase(p)\n",
    "    p=supprimer_liens(p)\n",
    "    p=remove_html_tags(p)\n",
    "    p=radicaliser_texte(p)\n",
    "    p=nettoyer_texte(p)\n",
    "    p=supprimer_mots_vides(p)\n",
    "    X[i]=p\n",
    "print(X[0])\n",
    "print(X[10])"
   ]
  },
  {
   "cell_type": "code",
   "execution_count": 16,
   "id": "9f78b548",
   "metadata": {},
   "outputs": [
    {
     "name": "stdout",
     "output_type": "stream",
     "text": [
      "pierc ear\n",
      "tiffanylu know wa listenin bad habit earlier start freakin hi part\n",
      "0\n"
     ]
    }
   ],
   "source": [
    "print(X[11])\n",
    "print(X[160000])\n",
    "print(y[0])"
   ]
  },
  {
   "cell_type": "code",
   "execution_count": 55,
   "id": "129b0381",
   "metadata": {},
   "outputs": [],
   "source": [
    "import pickle\n",
    "\n",
    "with open('X_apres_net.pkl', 'wb') as f:\n",
    "    pickle.dump(X, f)"
   ]
  },
  {
   "cell_type": "markdown",
   "id": "c4431e5a",
   "metadata": {},
   "source": [
    "## fonction construction vocabulaire\n"
   ]
  },
  {
   "cell_type": "code",
   "execution_count": 17,
   "id": "e6094017",
   "metadata": {},
   "outputs": [],
   "source": [
    "from collections import Counter\n",
    "def construire_vocabulaire(corpus_tweets, seuil_frequence):\n",
    "    mots_corpus = [mot for tweet in corpus_tweets for mot in tweet.split()]\n",
    "    frequence_mots = Counter(mots_corpus)\n",
    "    vocabulaire = [mot for mot, frequence in frequence_mots.items() if frequence >= seuil_frequence]\n",
    "    return vocabulaire"
   ]
  },
  {
   "cell_type": "markdown",
   "id": "e7898889",
   "metadata": {},
   "source": [
    "# Construction du vocabulaire "
   ]
  },
  {
   "cell_type": "code",
   "execution_count": 19,
   "id": "6abb7494",
   "metadata": {},
   "outputs": [],
   "source": [
    "#creation fichier voc\n",
    "def con_fich(vocabulaire, nom_fichier):\n",
    "  \n",
    "    with open(nom_fichier, 'w', encoding='latin-1') as fichier:\n",
    "        for mot in vocabulaire:\n",
    "            fichier.write(f\"{mot}\\n\")\n",
    "\n",
    "#fichier voc\n",
    "seuil_frequence = 1000\n",
    "vocabulaire = construire_vocabulaire(X, seuil_frequence)\n",
    "nom_fichier = 'vocabulaire.txt'\n",
    "con_fich(vocabulaire, nom_fichier)"
   ]
  },
  {
   "cell_type": "markdown",
   "id": "782ec2ae",
   "metadata": {},
   "source": [
    "## Fonction qui recupere les index du tweet dans le vocab\n"
   ]
  },
  {
   "cell_type": "code",
   "execution_count": 21,
   "id": "9749ae51",
   "metadata": {},
   "outputs": [
    {
     "name": "stdout",
     "output_type": "stream",
     "text": [
      "[0, 1, 2, 3, 4]\n",
      "switchfoot awww bummer shoulda got david carr third day\n"
     ]
    }
   ],
   "source": [
    "def mapper_mots_index(tweet_pretraite, vocabulaire):\n",
    "   \n",
    "    # Diviser le tweet prétraité en mots individuels\n",
    "    mots_tweet = tweet_pretraite.split()\n",
    "    \n",
    "    # Mapper chaque mot à son index dans le vocabulaire\n",
    "    index_mots = []\n",
    "    for mot in mots_tweet:\n",
    "        if mot in vocabulaire:\n",
    "            index = vocabulaire.index(mot)\n",
    "            index_mots.append(index)\n",
    "    return index_mots\n",
    "index_mots = mapper_mots_index(X[0], vocabulaire)\n",
    "print(index_mots)\n",
    "print(X[0]) "
   ]
  },
  {
   "cell_type": "markdown",
   "id": "b7a87bbc",
   "metadata": {},
   "source": [
    "## Mapper tout les tweet  "
   ]
  },
  {
   "cell_type": "code",
   "execution_count": 25,
   "id": "4cc865aa",
   "metadata": {},
   "outputs": [],
   "source": [
    "index_tweet= []\n",
    "\n",
    "for i  in range(len(X)):\n",
    "    index_mots=mapper_mots_index(X[i], vocabulaire)\n",
    "    index_tweet.append(index_mots)\n",
    "    \n",
    "    \n"
   ]
  },
  {
   "cell_type": "code",
   "execution_count": 57,
   "id": "a1708053",
   "metadata": {},
   "outputs": [],
   "source": [
    "import pickle\n",
    "\n",
    "with open('index_tweet.pkl', 'wb') as f:\n",
    "    pickle.dump(index_tweet, f)"
   ]
  },
  {
   "cell_type": "code",
   "execution_count": 1,
   "id": "6c29f3c4",
   "metadata": {},
   "outputs": [],
   "source": [
    "import pickle\n",
    "\n",
    "with open('index_tweet.pkl', 'rb') as f:\n",
    "    index_tweet = pickle.load(f)"
   ]
  },
  {
   "cell_type": "code",
   "execution_count": 64,
   "id": "77887594",
   "metadata": {},
   "outputs": [],
   "source": [
    "with open('matrice_y.pkl', 'wb') as f:\n",
    "    pickle.dump(y, f)"
   ]
  },
  {
   "cell_type": "code",
   "execution_count": 14,
   "id": "8ed2a97a",
   "metadata": {},
   "outputs": [],
   "source": [
    "import pickle\n",
    "with open('matrice_y.pkl', 'rb') as f:\n",
    "    y = pickle.load(f)"
   ]
  },
  {
   "cell_type": "markdown",
   "id": "05d98e69",
   "metadata": {},
   "source": [
    "# Extraction de caractéristiques"
   ]
  },
  {
   "cell_type": "code",
   "execution_count": 9,
   "id": "5c684e48",
   "metadata": {},
   "outputs": [
    {
     "name": "stdout",
     "output_type": "stream",
     "text": [
      "[[1 1 1 ... 0 0 0]\n",
      " [0 0 0 ... 0 0 0]\n",
      " [0 0 0 ... 0 0 0]\n",
      " ...\n",
      " [0 0 0 ... 0 0 0]\n",
      " [0 0 0 ... 0 0 0]\n",
      " [0 0 0 ... 0 0 0]]\n"
     ]
    }
   ],
   "source": [
    "import numpy as np\n",
    "shape = (len(index_tweet), len(vocabulaire))  \n",
    "x = np.zeros(shape, dtype=np.int64)\n",
    "for i, ind in enumerate(index_tweet):\n",
    "    for j in ind:\n",
    "            x[i][j] = 1\n",
    "\n",
    "print(x)\n"
   ]
  },
  {
   "cell_type": "code",
   "execution_count": 10,
   "id": "e60a469c",
   "metadata": {},
   "outputs": [],
   "source": [
    "import pickle\n",
    "\n",
    "output_file_pickle = \"x_matrix.pkl\"\n",
    "\n",
    "with open(output_file_pickle, 'wb') as f:\n",
    "    pickle.dump(x, f)"
   ]
  },
  {
   "cell_type": "code",
   "execution_count": 8,
   "id": "fad3fd04",
   "metadata": {},
   "outputs": [],
   "source": [
    "output_file_pickle = \"x_matrix.pkl\"\n",
    "with open(output_file_pickle, 'rb') as f:\n",
    "    x = pickle.load(f)"
   ]
  },
  {
   "cell_type": "markdown",
   "id": "a9bf6b13",
   "metadata": {},
   "source": [
    "# Étape 2 : Classification"
   ]
  },
  {
   "cell_type": "markdown",
   "id": "be8d6ebe",
   "metadata": {},
   "source": [
    "## Diviser les données en ensembles d'entraînement et de test (70% - 30%)\n"
   ]
  },
  {
   "cell_type": "code",
   "execution_count": 10,
   "id": "92797c6d",
   "metadata": {},
   "outputs": [],
   "source": [
    "from sklearn.model_selection import train_test_split\n",
    "import numpy as np\n",
    "\n",
    "X_train, X_test, y_train, y_test = train_test_split(x, y, test_size=0.3, random_state=42)\n",
    "\n",
    "\n"
   ]
  },
  {
   "cell_type": "code",
   "execution_count": 11,
   "id": "de93abbd",
   "metadata": {},
   "outputs": [],
   "source": [
    "output_file_pickle = \"X_train.pkl\"\n",
    "with open(output_file_pickle, 'wb') as f:\n",
    "    pickle.dump(X_train, f)"
   ]
  },
  {
   "cell_type": "code",
   "execution_count": 12,
   "id": "138dcae8",
   "metadata": {},
   "outputs": [],
   "source": [
    "output_file_pickle = \"X_test.pkl\"\n",
    "with open(output_file_pickle, 'wb') as f:\n",
    "    pickle.dump(X_test, f)"
   ]
  },
  {
   "cell_type": "code",
   "execution_count": 13,
   "id": "3054a7f2",
   "metadata": {},
   "outputs": [],
   "source": [
    "output_file_pickle = \"y_train.pkl\"\n",
    "with open(output_file_pickle, 'wb') as f:\n",
    "    pickle.dump(y_train, f)"
   ]
  },
  {
   "cell_type": "code",
   "execution_count": 14,
   "id": "3208edb0",
   "metadata": {},
   "outputs": [],
   "source": [
    "output_file_pickle = \"y_test.pkl\"\n",
    "with open(output_file_pickle, 'wb') as f:\n",
    "    pickle.dump(y_test, f)"
   ]
  },
  {
   "cell_type": "code",
   "execution_count": 1,
   "id": "1db4a65b",
   "metadata": {},
   "outputs": [],
   "source": [
    "import pickle\n",
    "output_file_pickle = \"X_train.pkl\"\n",
    "with open(output_file_pickle, 'rb') as f:\n",
    "    X_train = pickle.load(f)"
   ]
  },
  {
   "cell_type": "code",
   "execution_count": 3,
   "id": "d8cdd565",
   "metadata": {},
   "outputs": [],
   "source": [
    "import pickle\n",
    "\n",
    "output_file_pickle = \"y_train.pkl\"\n",
    "with open(output_file_pickle, 'rb') as f:\n",
    "    y_train = pickle.load(f)"
   ]
  },
  {
   "cell_type": "code",
   "execution_count": 4,
   "id": "69722ae3",
   "metadata": {},
   "outputs": [],
   "source": [
    "output_file_pickle = \"X_test.pkl\"\n",
    "with open(output_file_pickle, 'rb') as f:\n",
    "    X_test = pickle.load(f)"
   ]
  },
  {
   "cell_type": "code",
   "execution_count": 5,
   "id": "d9f8a233",
   "metadata": {},
   "outputs": [],
   "source": [
    "output_file_pickle = \"y_test.pkl\"\n",
    "with open(output_file_pickle, 'rb') as f:\n",
    "    y_test = pickle.load(f)"
   ]
  },
  {
   "cell_type": "markdown",
   "id": "5d831916",
   "metadata": {},
   "source": [
    "## LOGISTIC REGRESSION"
   ]
  },
  {
   "cell_type": "code",
   "execution_count": 3,
   "id": "7d11403e",
   "metadata": {},
   "outputs": [
    {
     "name": "stderr",
     "output_type": "stream",
     "text": [
      "C:\\Users\\TRETEC\\anaconda3\\lib\\site-packages\\scipy\\__init__.py:146: UserWarning: A NumPy version >=1.16.5 and <1.23.0 is required for this version of SciPy (detected version 1.23.0\n",
      "  warnings.warn(f\"A NumPy version >={np_minversion} and <{np_maxversion}\"\n"
     ]
    },
    {
     "data": {
      "text/plain": [
       "LogisticRegression(max_iter=1000, n_jobs=6, random_state=0, solver='saga')"
      ]
     },
     "execution_count": 3,
     "metadata": {},
     "output_type": "execute_result"
    }
   ],
   "source": [
    "from sklearn.linear_model import LogisticRegression\n",
    "from sklearn.preprocessing import StandardScaler\n",
    "from joblib import Parallel, delayed\n",
    "from sklearn.metrics import accuracy_score\n",
    "logistic_classifier = LogisticRegression(random_state=0, solver='saga', max_iter=1000, n_jobs=6)\n",
    "logistic_classifier.fit(X_train, y_train)"
   ]
  },
  {
   "cell_type": "code",
   "execution_count": 7,
   "id": "a307b6af",
   "metadata": {},
   "outputs": [
    {
     "name": "stdout",
     "output_type": "stream",
     "text": [
      "Précision du classificateur : 0.76131875\n"
     ]
    }
   ],
   "source": [
    "predictions = logistic_classifier.predict(X_test)\n",
    "accuracy = accuracy_score(y_test, predictions)\n",
    "print(\"Précision du classificateur :\", accuracy)"
   ]
  },
  {
   "cell_type": "code",
   "execution_count": 8,
   "id": "35edeeda",
   "metadata": {},
   "outputs": [
    {
     "name": "stdout",
     "output_type": "stream",
     "text": [
      "AUC : 0.8368056746585049\n"
     ]
    },
    {
     "data": {
      "image/png": "[encoded data removed]",
      "text/plain": [
       "<Figure size 432x288 with 1 Axes>"
      ]
     },
     "metadata": {
      "needs_background": "light"
     },
     "output_type": "display_data"
    }
   ],
   "source": [
    "from sklearn.metrics import accuracy_score, roc_curve, roc_auc_score\n",
    "import matplotlib.pyplot as plt\n",
    "\n",
    "y_proba = logistic_classifier.predict_proba(X_test)[:, 1]\n",
    "y_test_binary = (y_test == '4').astype(int)\n",
    "fpr, tpr, thresholds = roc_curve(y_test_binary, y_proba)\n",
    "auc = roc_auc_score(y_test_binary, y_proba)\n",
    "print(\"AUC :\", auc)\n",
    "plt.figure()\n",
    "plt.plot(fpr, tpr, color='darkorange', lw=2, label='Courbe ROC (AUC = %0.2f)' % auc)\n",
    "plt.plot([0, 1], [0, 1], color='navy', lw=2, linestyle='--')\n",
    "plt.xlim([0.0, 1.0])\n",
    "plt.ylim([0.0, 1.05])\n",
    "plt.xlabel('Taux de Faux Positifs')\n",
    "plt.ylabel('Taux de Vrais Positifs')\n",
    "plt.title('Courbe ROC')\n",
    "plt.legend(loc=\"lower right\")\n",
    "plt.show()"
   ]
  },
  {
   "cell_type": "markdown",
   "id": "9a97169f",
   "metadata": {},
   "source": [
    "# SGD Classifier"
   ]
  },
  {
   "cell_type": "code",
   "execution_count": 3,
   "id": "cc4e9184",
   "metadata": {},
   "outputs": [
    {
     "name": "stderr",
     "output_type": "stream",
     "text": [
      "C:\\Users\\TRETEC\\anaconda3\\lib\\site-packages\\scipy\\__init__.py:146: UserWarning: A NumPy version >=1.16.5 and <1.23.0 is required for this version of SciPy (detected version 1.23.0\n",
      "  warnings.warn(f\"A NumPy version >={np_minversion} and <{np_maxversion}\"\n"
     ]
    },
    {
     "data": {
      "text/plain": [
       "SGDClassifier(alpha=1e-05, max_iter=10000, random_state=0)"
      ]
     },
     "execution_count": 3,
     "metadata": {},
     "output_type": "execute_result"
    }
   ],
   "source": [
    "from sklearn.linear_model import SGDClassifier\n",
    "\n",
    "SGD_classifier = SGDClassifier(loss='hinge', alpha=0.00001, max_iter=10000, random_state=0)\n",
    "SGD_classifier.fit(X_train, y_train)"
   ]
  },
  {
   "cell_type": "code",
   "execution_count": 6,
   "id": "6a084d5a",
   "metadata": {},
   "outputs": [
    {
     "name": "stdout",
     "output_type": "stream",
     "text": [
      "Précision du classificateur : 0.75840625\n"
     ]
    }
   ],
   "source": [
    "predictions = SGD_classifier.predict(X_test)\n",
    "from sklearn.metrics import accuracy_score, roc_curve, roc_auc_score\n",
    "import matplotlib.pyplot as plt\n",
    "\n",
    "accuracy = accuracy_score(y_test, predictions)\n",
    "print(\"Précision du classificateur :\", accuracy)"
   ]
  },
  {
   "cell_type": "code",
   "execution_count": 9,
   "id": "c473958d",
   "metadata": {},
   "outputs": [
    {
     "data": {
      "image/png": "[encoded data removed]",
      "text/plain": [
       "<Figure size 432x288 with 1 Axes>"
      ]
     },
     "metadata": {
      "needs_background": "light"
     },
     "output_type": "display_data"
    }
   ],
   "source": [
    "from sklearn.metrics import roc_curve, auc\n",
    "y_scores = SGD_classifier.decision_function(X_test)\n",
    "y_test_binary = (y_test == '4').astype(int)\n",
    "fpr, tpr, thresholds = roc_curve(y_test_binary, y_scores)\n",
    "roc_auc = auc(fpr, tpr)\n",
    "\n",
    "plt.figure()\n",
    "plt.plot(fpr, tpr, color='darkorange', lw=2, label=f'Courbe ROC (AUC = {roc_auc:.2f})')\n",
    "plt.plot([0, 1], [0, 1], color='navy', lw=2, linestyle='--')\n",
    "plt.xlim([0.0, 1.0])\n",
    "plt.ylim([0.0, 1.05])\n",
    "plt.xlabel('Taux de faux positifs (False Positive Rate)')\n",
    "plt.ylabel('Taux de vrais positifs (True Positive Rate)')\n",
    "plt.title('Courbe ROC')\n",
    "plt.legend(loc='lower right')\n",
    "plt.show()"
   ]
  },
  {
   "cell_type": "markdown",
   "id": "7c1442a1",
   "metadata": {},
   "source": [
    "# DecisionTree Classifier"
   ]
  },
  {
   "cell_type": "code",
   "execution_count": 1,
   "id": "a314cc75",
   "metadata": {},
   "outputs": [
    {
     "name": "stdout",
     "output_type": "stream",
     "text": [
      "Accuracy: 0.69960625\n"
     ]
    }
   ],
   "source": [
    "from sklearn.tree import DecisionTreeClassifier\n",
    "from sklearn.metrics import accuracy_score\n",
    "\n",
    "decision_tree_classifier = DecisionTreeClassifier(criterion='entropy', random_state=0)\n",
    "decision_tree_classifier.fit(X_train, y_train)\n",
    "predictions = decision_tree_classifier.predict(X_test)\n",
    "accuracy = accuracy_score(y_test, predictions)\n",
    "print(f\"Accuracy: {accuracy}\")"
   ]
  },
  {
   "cell_type": "markdown",
   "id": "9f85c043",
   "metadata": {},
   "source": [
    "# KNeighborsClassifier"
   ]
  },
  {
   "cell_type": "code",
   "execution_count": 2,
   "id": "15f2ab82",
   "metadata": {},
   "outputs": [
    {
     "name": "stderr",
     "output_type": "stream",
     "text": [
      "C:\\Users\\TRETEC\\anaconda3\\lib\\site-packages\\scipy\\__init__.py:146: UserWarning: A NumPy version >=1.16.5 and <1.23.0 is required for this version of SciPy (detected version 1.23.0\n",
      "  warnings.warn(f\"A NumPy version >={np_minversion} and <{np_maxversion}\"\n"
     ]
    },
    {
     "data": {
      "text/plain": [
       "KNeighborsClassifier(n_jobs=6, n_neighbors=7)"
      ]
     },
     "execution_count": 2,
     "metadata": {},
     "output_type": "execute_result"
    }
   ],
   "source": [
    "from sklearn.neighbors import KNeighborsClassifier\n",
    "\n",
    "knn_classifier = KNeighborsClassifier(n_neighbors=7, n_jobs=6)\n",
    "knn_classifier.fit(X_train, y_train)"
   ]
  },
  {
   "cell_type": "code",
   "execution_count": 5,
   "id": "65792b35",
   "metadata": {},
   "outputs": [],
   "source": [
    "# Prédire les classes pour les données de test\n",
    "predictions = knn_classifier.predict(X_test)\n"
   ]
  },
  {
   "cell_type": "code",
   "execution_count": 8,
   "id": "c02b4622",
   "metadata": {},
   "outputs": [
    {
     "name": "stdout",
     "output_type": "stream",
     "text": [
      "Précision du classificateur : 0.7154666666666667\n"
     ]
    }
   ],
   "source": [
    "# Évaluation des prédictions\n",
    "from sklearn.metrics import accuracy_score\n",
    "accuracy = accuracy_score(y_test, predictions)\n",
    "print(\"Précision du classificateur :\", accuracy)"
   ]
  },
  {
   "cell_type": "markdown",
   "id": "4d8f835d",
   "metadata": {},
   "source": [
    " # SVC"
   ]
  },
  {
   "cell_type": "code",
   "execution_count": null,
   "id": "349d187e",
   "metadata": {},
   "outputs": [],
   "source": [
    " from sklearn.svm import SVC\n",
    "from joblib import Parallel, delayed\n",
    "\n",
    "num_cores = 6  \n",
    "subset_size = len(X_train) // num_cores\n",
    "X_train_subsets = [X_train[i:i+subset_size] for i in range(0, len(X_train), subset_size)]\n",
    "y_train_subsets = [y_train[i:i+subset_size] for i in range(0, len(y_train), subset_size)]\n",
    "\n",
    "def train_svc(X_subset, y_subset):\n",
    "    classifier_svc = SVC(kernel='linear', random_state=0)\n",
    "    classifier_svc.fit(X_subset, y_subset)\n",
    "    return classifier_svc\n",
    "\n",
    "\n",
    "classifiers = Parallel(n_jobs=num_cores)(delayed(train_svc)(X_subset, y_subset) for X_subset, y_subset in zip(X_train_subsets, y_train_subsets))\n",
    "\n",
    "predictions_svc = np.concatenate([classifier.predict(X_test) for classifier in classifiers])\n"
   ]
  },
  {
   "cell_type": "code",
   "execution_count": null,
   "id": "4a198ede",
   "metadata": {},
   "outputs": [],
   "source": [
    "\n",
    "accuracy = accuracy_score(y_test, predictions_svc)\n",
    "print(\"Précision du classificateur :\", accuracy)"
   ]
  },
  {
   "cell_type": "markdown",
   "id": "b2f4d612",
   "metadata": {},
   "source": [
    "# MLPCLASSIFER "
   ]
  },
  {
   "cell_type": "code",
   "execution_count": 3,
   "id": "fd06e83d",
   "metadata": {},
   "outputs": [
    {
     "name": "stderr",
     "output_type": "stream",
     "text": [
      "C:\\Users\\TRETEC\\anaconda3\\lib\\site-packages\\scipy\\__init__.py:146: UserWarning: A NumPy version >=1.16.5 and <1.23.0 is required for this version of SciPy (detected version 1.23.0\n",
      "  warnings.warn(f\"A NumPy version >={np_minversion} and <{np_maxversion}\"\n"
     ]
    },
    {
     "data": {
      "text/plain": [
       "MLPClassifier(hidden_layer_sizes=(3,), max_iter=1000)"
      ]
     },
     "execution_count": 3,
     "metadata": {},
     "output_type": "execute_result"
    }
   ],
   "source": [
    "import numpy as np\n",
    "import matplotlib.pyplot as plt\n",
    "from sklearn.model_selection import train_test_split\n",
    "from sklearn.neural_network import MLPClassifier\n",
    "from sklearn.metrics import roc_curve, auc\n",
    "from joblib import Parallel, delayed\n",
    "from sklearn.datasets import make_classification\n",
    "mlp_classifier = MLPClassifier(hidden_layer_sizes=(3,), activation='relu', solver='adam', max_iter=1000)\n",
    "mlp_classifier.fit(X_train, y_train)\n"
   ]
  },
  {
   "cell_type": "code",
   "execution_count": 8,
   "id": "8dbe6c02",
   "metadata": {},
   "outputs": [
    {
     "data": {
      "image/png": "[encoded data removed]",
      "text/plain": [
       "<Figure size 432x288 with 1 Axes>"
      ]
     },
     "metadata": {
      "needs_background": "light"
     },
     "output_type": "display_data"
    }
   ],
   "source": [
    "\n",
    "y_prob = mlp_classifier.predict_proba(X_test)[:, 1]\n",
    "y_test_binary = (y_test == '4').astype(int)\n",
    "fpr, tpr, thresholds = roc_curve(y_test_binary, y_prob)\n",
    "roc_auc = auc(fpr, tpr)\n",
    "plt.figure()\n",
    "plt.plot(fpr, tpr, color='darkorange', lw=2, label=f'Courbe ROC (AUC = {roc_auc:.2f})')\n",
    "plt.plot([0, 1], [0, 1], color='navy', lw=2, linestyle='--')\n",
    "plt.xlim([0.0, 1.0])\n",
    "plt.ylim([0.0, 1.05])\n",
    "plt.xlabel('Taux de faux positifs (False Positive Rate)')\n",
    "plt.ylabel('Taux de vrais positifs (True Positive Rate)')\n",
    "plt.title('Courbe ROC')\n",
    "plt.legend(loc='lower right')\n",
    "plt.show()"
   ]
  },
  {
   "cell_type": "code",
   "execution_count": 9,
   "id": "03c1051b",
   "metadata": {},
   "outputs": [
    {
     "name": "stdout",
     "output_type": "stream",
     "text": [
      "Précision du classificateur : 0.7566645833333333\n"
     ]
    }
   ],
   "source": [
    "from sklearn.metrics import accuracy_score\n",
    "predictions_rn = mlp_classifier.predict(X_test)\n",
    "accuracy = accuracy_score(y_test, predictions_rn)\n",
    "print(\"Précision du classificateur :\", accuracy)"
   ]
  },
  {
   "cell_type": "markdown",
   "id": "9701908d",
   "metadata": {},
   "source": [
    "## ANN keras"
   ]
  },
  {
   "cell_type": "code",
   "execution_count": 1,
   "id": "4bd3b1c0",
   "metadata": {},
   "outputs": [
    {
     "name": "stderr",
     "output_type": "stream",
     "text": [
      "C:\\Users\\TRETEC\\anaconda3\\lib\\site-packages\\scipy\\__init__.py:146: UserWarning: A NumPy version >=1.16.5 and <1.23.0 is required for this version of SciPy (detected version 1.23.0\n",
      "  warnings.warn(f\"A NumPy version >={np_minversion} and <{np_maxversion}\"\n"
     ]
    },
    {
     "name": "stdout",
     "output_type": "stream",
     "text": [
      "WARNING:tensorflow:From C:\\Users\\TRETEC\\anaconda3\\lib\\site-packages\\keras\\src\\losses.py:2976: The name tf.losses.sparse_softmax_cross_entropy is deprecated. Please use tf.compat.v1.losses.sparse_softmax_cross_entropy instead.\n",
      "\n"
     ]
    }
   ],
   "source": [
    "import tensorflow as tf"
   ]
  },
  {
   "cell_type": "code",
   "execution_count": 3,
   "id": "3039bebe",
   "metadata": {},
   "outputs": [
    {
     "name": "stderr",
     "output_type": "stream",
     "text": [
      "C:\\Users\\TRETEC\\anaconda3\\lib\\site-packages\\scipy\\__init__.py:146: UserWarning: A NumPy version >=1.16.5 and <1.23.0 is required for this version of SciPy (detected version 1.23.0\n",
      "  warnings.warn(f\"A NumPy version >={np_minversion} and <{np_maxversion}\"\n"
     ]
    },
    {
     "name": "stdout",
     "output_type": "stream",
     "text": [
      "WARNING:tensorflow:From C:\\Users\\TRETEC\\anaconda3\\lib\\site-packages\\keras\\src\\losses.py:2976: The name tf.losses.sparse_softmax_cross_entropy is deprecated. Please use tf.compat.v1.losses.sparse_softmax_cross_entropy instead.\n",
      "\n",
      "WARNING:tensorflow:From C:\\Users\\TRETEC\\anaconda3\\lib\\site-packages\\keras\\src\\backend.py:873: The name tf.get_default_graph is deprecated. Please use tf.compat.v1.get_default_graph instead.\n",
      "\n",
      "WARNING:tensorflow:From C:\\Users\\TRETEC\\anaconda3\\lib\\site-packages\\keras\\src\\optimizers\\__init__.py:309: The name tf.train.Optimizer is deprecated. Please use tf.compat.v1.train.Optimizer instead.\n",
      "\n",
      "Epoch 1/6\n",
      "WARNING:tensorflow:From C:\\Users\\TRETEC\\anaconda3\\lib\\site-packages\\keras\\src\\utils\\tf_utils.py:492: The name tf.ragged.RaggedTensorValue is deprecated. Please use tf.compat.v1.ragged.RaggedTensorValue instead.\n",
      "\n",
      "70000/70000 [==============================] - 154s 2ms/step - loss: 2.5767\n",
      "Epoch 2/6\n",
      "70000/70000 [==============================] - 122s 2ms/step - loss: 2.4430\n",
      "Epoch 3/6\n",
      "70000/70000 [==============================] - 151s 2ms/step - loss: 2.3745\n",
      "Epoch 4/6\n",
      "70000/70000 [==============================] - 155s 2ms/step - loss: 2.3239\n",
      "Epoch 5/6\n",
      "70000/70000 [==============================] - 164s 2ms/step - loss: 2.2830\n",
      "Epoch 6/6\n",
      "70000/70000 [==============================] - 164s 2ms/step - loss: 2.2476\n"
     ]
    },
    {
     "data": {
      "text/plain": [
       "<keras.src.callbacks.History at 0x15898758b20>"
      ]
     },
     "execution_count": 3,
     "metadata": {},
     "output_type": "execute_result"
    }
   ],
   "source": [
    "import tensorflow as tf\n",
    "\n",
    "ann = tf.keras.models.Sequential()\n",
    "\n",
    "# input layer\n",
    "ann.add(tf.keras.layers.Dense(units = 100, activation ='relu'))  # units must be chosen\n",
    "# hidden layer\n",
    "ann.add(tf.keras.layers.Dense(units = 50, activation ='relu')) \n",
    "# output layer\n",
    "ann.add(tf.keras.layers.Dense(units = 1)) # we can remove the activation function for the regression\n",
    "\n",
    "ann.compile(optimizer ='adam',loss='mean_squared_error')\n",
    "y_train = y_train.astype(int)\n",
    "ann.fit(X_train,y_train, batch_size =16,epochs=6)"
   ]
  },
  {
   "cell_type": "code",
   "execution_count": 6,
   "id": "5ecf8d00",
   "metadata": {},
   "outputs": [
    {
     "name": "stdout",
     "output_type": "stream",
     "text": [
      "15000/15000 [==============================] - 24s 2ms/step\n",
      "Accuracy: 0.77314375\n"
     ]
    }
   ],
   "source": [
    "import numpy as np\n",
    "from sklearn.metrics import accuracy_score\n",
    "\n",
    "predictions = ann.predict(X_test)\n",
    "predictions_transformed = np.where(predictions < 2, 0, 4)\n",
    "y_test_numeric = y_test.astype(int)\n",
    "accuracy = accuracy_score(y_test_numeric, predictions_transformed)\n",
    "print(\"Accuracy:\", accuracy)"
   ]
  },
  {
   "cell_type": "markdown",
   "id": "42401758",
   "metadata": {},
   "source": [
    "# CNN"
   ]
  },
  {
   "cell_type": "code",
   "execution_count": 3,
   "id": "85a802c4",
   "metadata": {
    "scrolled": true
   },
   "outputs": [
    {
     "name": "stderr",
     "output_type": "stream",
     "text": [
      "C:\\Users\\TRETEC\\anaconda3\\lib\\site-packages\\scipy\\__init__.py:146: UserWarning: A NumPy version >=1.16.5 and <1.23.0 is required for this version of SciPy (detected version 1.23.0\n",
      "  warnings.warn(f\"A NumPy version >={np_minversion} and <{np_maxversion}\"\n"
     ]
    },
    {
     "name": "stdout",
     "output_type": "stream",
     "text": [
      "WARNING:tensorflow:From C:\\Users\\TRETEC\\anaconda3\\lib\\site-packages\\keras\\src\\losses.py:2976: The name tf.losses.sparse_softmax_cross_entropy is deprecated. Please use tf.compat.v1.losses.sparse_softmax_cross_entropy instead.\n",
      "\n",
      "WARNING:tensorflow:From C:\\Users\\TRETEC\\anaconda3\\lib\\site-packages\\keras\\src\\backend.py:873: The name tf.get_default_graph is deprecated. Please use tf.compat.v1.get_default_graph instead.\n",
      "\n",
      "WARNING:tensorflow:From C:\\Users\\TRETEC\\anaconda3\\lib\\site-packages\\keras\\src\\layers\\pooling\\max_pooling2d.py:161: The name tf.nn.max_pool is deprecated. Please use tf.nn.max_pool2d instead.\n",
      "\n",
      "WARNING:tensorflow:From C:\\Users\\TRETEC\\anaconda3\\lib\\site-packages\\keras\\src\\optimizers\\__init__.py:309: The name tf.train.Optimizer is deprecated. Please use tf.compat.v1.train.Optimizer instead.\n",
      "\n",
      "Epoch 1/6\n",
      "WARNING:tensorflow:From C:\\Users\\TRETEC\\anaconda3\\lib\\site-packages\\keras\\src\\utils\\tf_utils.py:492: The name tf.ragged.RaggedTensorValue is deprecated. Please use tf.compat.v1.ragged.RaggedTensorValue instead.\n",
      "\n",
      "WARNING:tensorflow:From C:\\Users\\TRETEC\\anaconda3\\lib\\site-packages\\keras\\src\\engine\\base_layer_utils.py:384: The name tf.executing_eagerly_outside_functions is deprecated. Please use tf.compat.v1.executing_eagerly_outside_functions instead.\n",
      "\n",
      "28000/28000 [==============================] - 831s 30ms/step - loss: 0.5056 - accuracy: 0.7517 - val_loss: 0.4958 - val_accuracy: 0.7571\n",
      "Epoch 2/6\n",
      "28000/28000 [==============================] - 763s 27ms/step - loss: 0.4869 - accuracy: 0.7645 - val_loss: 0.4908 - val_accuracy: 0.7623\n",
      "Epoch 3/6\n",
      "28000/28000 [==============================] - 884s 32ms/step - loss: 0.4778 - accuracy: 0.7703 - val_loss: 0.4905 - val_accuracy: 0.7621\n",
      "Epoch 4/6\n",
      "28000/28000 [==============================] - 857s 31ms/step - loss: 0.4705 - accuracy: 0.7748 - val_loss: 0.4904 - val_accuracy: 0.7621\n",
      "Epoch 5/6\n",
      "28000/28000 [==============================] - 706s 25ms/step - loss: 0.4641 - accuracy: 0.7791 - val_loss: 0.4936 - val_accuracy: 0.7617\n",
      "Epoch 6/6\n",
      "28000/28000 [==============================] - 685s 24ms/step - loss: 0.4585 - accuracy: 0.7825 - val_loss: 0.4932 - val_accuracy: 0.7602\n"
     ]
    },
    {
     "data": {
      "text/plain": [
       "<keras.src.callbacks.History at 0x249903ffb20>"
      ]
     },
     "execution_count": 3,
     "metadata": {},
     "output_type": "execute_result"
    }
   ],
   "source": [
    "from tensorflow.keras.models import Sequential\n",
    "from tensorflow.keras.layers import Conv2D, MaxPooling2D, Flatten, Dense, Reshape\n",
    "from tensorflow.keras.utils import to_categorical\n",
    "import numpy as np\n",
    "\n",
    "X_train_ = X_train.reshape(-1, 1000, 1, 1).astype('float32')\n",
    "del X_train\n",
    "\n",
    "cnn = Sequential()\n",
    "\n",
    "cnn.add(Conv2D(32, (3, 1), activation='relu'))  # Taille du noyau (3, 1)\n",
    "cnn.add(MaxPooling2D((2, 1)))\n",
    "cnn.add(Conv2D(64, (3, 1), activation='relu'))\n",
    "cnn.add(MaxPooling2D((2, 1)))\n",
    "cnn.add(Conv2D(64, (3, 1), activation='relu'))\n",
    "\n",
    "cnn.add(Flatten())\n",
    "cnn.add(Dense(64, activation='relu'))\n",
    "cnn.add(Dense(1, activation='sigmoid'))\n",
    "cnn.compile(optimizer='adam', loss='binary_crossentropy', metrics=['accuracy'])\n",
    "y_train_ = y_train.astype('float32')\n",
    "y_train_ = np.where(y_train_ == 4, 1, 0)\n",
    "del y_train\n",
    "cnn.fit(X_train_, y_train_, epochs=6, validation_split=0.2)\n",
    "\n"
   ]
  },
  {
   "cell_type": "code",
   "execution_count": null,
   "id": "2cd18577",
   "metadata": {},
   "outputs": [],
   "source": [
    "del y_train_\n",
    "del X_train_"
   ]
  },
  {
   "cell_type": "code",
   "execution_count": 7,
   "id": "a1f51dc4",
   "metadata": {},
   "outputs": [
    {
     "name": "stdout",
     "output_type": "stream",
     "text": [
      "15000/15000 [==============================] - 107s 7ms/step\n",
      "Test accuracy: 0.76085\n"
     ]
    }
   ],
   "source": [
    "from sklearn.metrics import accuracy_score, roc_curve, auc\n",
    "import matplotlib.pyplot as plt\n",
    "X_test_ = X_test.reshape(-1, 1000, 1, 1).astype('float32')\n",
    "del X_test\n",
    "y_test_ = y_test.astype('float32')\n",
    "y_test_ = np.where(y_test_ == 4, 1, 0)\n",
    "del y_test\n",
    "y_proba = cnn.predict(X_test_).ravel()\n",
    "y_pred = np.where(y_proba >= 0.5, 1, 0)\n",
    "test_accuracy = accuracy_score(y_test_, y_pred)\n",
    "print(\"Test accuracy:\", test_accuracy)\n"
   ]
  },
  {
   "cell_type": "code",
   "execution_count": 8,
   "id": "cacd375f",
   "metadata": {},
   "outputs": [
    {
     "data": {
      "image/png": "[encoded data removed]",
      "text/plain": [
       "<Figure size 432x288 with 1 Axes>"
      ]
     },
     "metadata": {
      "needs_background": "light"
     },
     "output_type": "display_data"
    }
   ],
   "source": [
    "fpr, tpr, thresholds = roc_curve(y_test_, y_proba)\n",
    "roc_auc = auc(fpr, tpr)\n",
    "\n",
    "plt.figure()\n",
    "plt.plot(fpr, tpr, color='darkorange', lw=2, label='ROC curve (area = %0.2f)' % roc_auc)\n",
    "plt.plot([0, 1], [0, 1], color='navy', lw=2, linestyle='--')\n",
    "plt.xlim([0.0, 1.0])\n",
    "plt.ylim([0.0, 1.05])\n",
    "plt.xlabel('False Positive Rate')\n",
    "plt.ylabel('True Positive Rate')\n",
    "plt.title('Receiver Operating Characteristic')\n",
    "plt.legend(loc=\"lower right\")\n",
    "plt.show()"
   ]
  },
  {
   "cell_type": "code",
   "execution_count": 2,
   "id": "7c86ced3",
   "metadata": {
    "scrolled": true
   },
   "outputs": [
    {
     "data": {
      "image/png": "[encoded data removed]",
      "text/plain": [
       "<Figure size 720x432 with 1 Axes>"
      ]
     },
     "metadata": {
      "needs_background": "light"
     },
     "output_type": "display_data"
    }
   ],
   "source": [
    "import matplotlib.pyplot as plt\n",
    "\n",
    "# Données des modèles et leurs précisions\n",
    "models = [\n",
    "    'LOGISTIC REGRESSION',\n",
    "    'SGD',\n",
    "    'DECISION TREE',\n",
    "    'K-NEIGHBORS',\n",
    "    'MLP',\n",
    "    'ANN KERAS',\n",
    "    'CNN'\n",
    "]\n",
    "\n",
    "precisions = [\n",
    "    0.7511541666666667,\n",
    "    0.7472479166666667,\n",
    "    0.69960625,\n",
    "    0.6989625,\n",
    "    0.75664583333333,\n",
    "    0.7603666666666666,\n",
    "    0.76085\n",
    "]\n",
    "\n",
    "# Création du graphique\n",
    "plt.figure(figsize=(10, 6))\n",
    "plt.bar(models, precisions, color=['blue', 'green', 'red', 'purple', 'orange', 'cyan'])\n",
    "plt.xlabel('Modèles de Machine Learning')\n",
    "plt.ylabel('Précision')\n",
    "plt.title('Comparaison des Précisions des Modèles de Machine Learning')\n",
    "plt.ylim(0.65, 0.77)  # Ajustement des limites de l'axe y pour une meilleure visibilité\n",
    "plt.xticks(rotation=45)\n",
    "plt.grid(axis='y', linestyle='--', linewidth=0.7)\n",
    "plt.tight_layout()\n",
    "\n",
    "# Affichage du graphique\n",
    "plt.show()\n"
   ]
  }
 ],
 "metadata": {
  "kernelspec": {
   "display_name": "Python 3 (ipykernel)",
   "language": "python",
   "name": "python3"
  },
  "language_info": {
   "codemirror_mode": {
    "name": "ipython",
    "version": 3
   },
   "file_extension": ".py",
   "mimetype": "text/x-python",
   "name": "python",
   "nbconvert_exporter": "python",
   "pygments_lexer": "ipython3",
   "version": "3.9.12"
  }
 },
 "nbformat": 4,
 "nbformat_minor": 5
}
